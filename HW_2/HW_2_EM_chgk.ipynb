{
 "cells": [
  {
   "cell_type": "markdown",
   "metadata": {},
   "source": [
    "**1** Прочитайте и проанализируйте данные, выберите турниры, в которых есть данные о составах команд и повопросных результатах (поле mask в results.pkl). Для унификации предлагаю:\n",
    "* взять в тренировочный набор турниры с dateStart из 2019 года;\n",
    "* в тестовый — турниры с dateStart из 2020 года."
   ]
  },
  {
   "cell_type": "code",
   "execution_count": 1,
   "metadata": {},
   "outputs": [],
   "source": [
    "import pandas as pd\n",
    "import numpy as np\n",
    "import matplotlib.pyplot as plt\n",
    "from datetime import datetime as dt\n",
    "from sklearn.linear_model import LogisticRegression, LinearRegression\n",
    "from sklearn.preprocessing import OneHotEncoder\n",
    "import pickle"
   ]
  },
  {
   "cell_type": "code",
   "execution_count": 2,
   "metadata": {},
   "outputs": [],
   "source": [
    "train_year = 2019\n",
    "test_year = 2020"
   ]
  },
  {
   "cell_type": "code",
   "execution_count": 3,
   "metadata": {},
   "outputs": [],
   "source": [
    "players = pickle.load(open('chgk/players.pkl', 'rb'))\n",
    "tournaments = pickle.load(open('chgk/tournaments.pkl', 'rb'))\n",
    "results = pickle.load(open('chgk/results.pkl', 'rb'))"
   ]
  },
  {
   "cell_type": "code",
   "execution_count": 4,
   "metadata": {},
   "outputs": [],
   "source": [
    "parse_data = []\n",
    "for tournament in tournaments.keys():    \n",
    "    if results[tournament] != []:\n",
    "        year = int(tournaments[tournament]['dateStart'][:4])\n",
    "        if year in [2019, 2020]:\n",
    "            for team in results[tournament]:\n",
    "                mask = team.get('mask')\n",
    "                if mask is None or '?' in mask or 'X' in mask:\n",
    "                    continue\n",
    "                else:\n",
    "                    for i, answer in enumerate(team['mask']):\n",
    "                        question_id = tournament * 500 + i \n",
    "                        for member in team['teamMembers']:\n",
    "                            data = dict()\n",
    "                            data['player_id'] = member['player']['id']\n",
    "                            data['question_id'] = question_id\n",
    "                            data['team_id'] = tournaments[tournament]['id']\n",
    "                            data['answer'] = int(answer)\n",
    "                            data['year'] = year\n",
    "                            parse_data.append(data)\n",
    "                                                     "
   ]
  },
  {
   "cell_type": "code",
   "execution_count": 5,
   "metadata": {},
   "outputs": [],
   "source": [
    "data_df = pd.DataFrame.from_dict(parse_data) \n",
    "with open('chgk/data_df.pkl', 'wb') as f:\n",
    "    pickle.dump(data_df, f)"
   ]
  },
  {
   "cell_type": "code",
   "execution_count": 6,
   "metadata": {},
   "outputs": [],
   "source": [
    "data_df = pickle.load(open('chgk/data_df.pkl', 'rb'))"
   ]
  },
  {
   "cell_type": "code",
   "execution_count": 7,
   "metadata": {},
   "outputs": [],
   "source": [
    "players_df = pd.DataFrame.from_dict(players, orient='index') \n",
    "with open('chgk/players_df.pkl', 'wb') as f:\n",
    "    pickle.dump(players_df, f)"
   ]
  },
  {
   "cell_type": "code",
   "execution_count": 8,
   "metadata": {},
   "outputs": [],
   "source": [
    "players_df = pickle.load(open('chgk/players_df.pkl', 'rb'))"
   ]
  },
  {
   "cell_type": "code",
   "execution_count": 9,
   "metadata": {},
   "outputs": [],
   "source": [
    "train = data_df[data_df['year'] == train_year]\n",
    "test = data_df[data_df['year'] == test_year]"
   ]
  },
  {
   "cell_type": "code",
   "execution_count": 10,
   "metadata": {},
   "outputs": [],
   "source": [
    "train = pd.merge(train, players_df, left_on=['player_id'], right_on=['id'])\n",
    "test = pd.merge(test, players_df, left_on=['player_id'], right_on=['id'])"
   ]
  },
  {
   "cell_type": "code",
   "execution_count": 11,
   "metadata": {},
   "outputs": [],
   "source": [
    "with open('chgk/train_df.pkl', 'wb') as f:\n",
    "    pickle.dump(train, f)\n",
    "with open('chgk/test_df.pkl', 'wb') as f:\n",
    "    pickle.dump(test, f)"
   ]
  },
  {
   "cell_type": "code",
   "execution_count": 12,
   "metadata": {},
   "outputs": [],
   "source": [
    "train_df = pickle.load(open('chgk/train_df.pkl', 'rb'))\n",
    "test_df = pickle.load(open('chgk/test_df.pkl', 'rb'))"
   ]
  },
  {
   "cell_type": "markdown",
   "metadata": {},
   "source": [
    "**2** Постройте baseline-модель на основе линейной или логистической регрессии, которая будет обучать рейтинг-лист игроков. Замечания и подсказки:\n",
    "* повопросные результаты — это фактически результаты броска монетки, и их предсказание скорее всего имеет отношение к бинарной классификации;\n",
    "* в разных турнирах вопросы совсем разного уровня сложности, поэтому модель должна это учитывать; скорее всего, модель должна будет явно обучать не только силу каждого игрока, но и сложность каждого вопроса;\n",
    "* для baseline-модели можно забыть о командах и считать, что повопросные результаты команды просто относятся к каждому из её игроков."
   ]
  },
  {
   "cell_type": "markdown",
   "metadata": {},
   "source": [
    "Введем оценку сложности вопроса, как отношение количесва команд верно ответивших на данный вопрос к общему числу команд, отвечавших на данный вопрос. "
   ]
  },
  {
   "cell_type": "code",
   "execution_count": 13,
   "metadata": {},
   "outputs": [],
   "source": [
    "def questions_complexity(data_df):\n",
    "    summa = data_df.groupby(['question_id'])['answer'].sum()\n",
    "    count = data_df.groupby(['question_id'])['answer'].count()\n",
    "    complexity = summa.div(count)\n",
    "    data_df = pd.merge(data_df, complexity, on=['question_id'])\n",
    "    data_df.rename(columns={'answer_y':'complexity'}, inplace=True)\n",
    "    return data_df\n",
    "    "
   ]
  },
  {
   "cell_type": "code",
   "execution_count": 14,
   "metadata": {},
   "outputs": [],
   "source": [
    "data_df = train_df"
   ]
  },
  {
   "cell_type": "code",
   "execution_count": 15,
   "metadata": {},
   "outputs": [],
   "source": [
    "questions_complexity_df = questions_complexity(data_df)"
   ]
  },
  {
   "cell_type": "code",
   "execution_count": 16,
   "metadata": {},
   "outputs": [],
   "source": [
    "with open('chgk/questions_complexity_df.pkl', 'wb') as f:\n",
    "    pickle.dump(questions_complexity_df, f)"
   ]
  },
  {
   "cell_type": "code",
   "execution_count": 17,
   "metadata": {},
   "outputs": [],
   "source": [
    "questions_complexity_df = pickle.load(open('chgk/questions_complexity_df.pkl', 'rb'))"
   ]
  },
  {
   "cell_type": "markdown",
   "metadata": {},
   "source": [
    "Построим распределение сложности вопросов в выборке."
   ]
  },
  {
   "cell_type": "code",
   "execution_count": 18,
   "metadata": {},
   "outputs": [
    {
     "data": {
      "image/png": "[encoded data removed]",
      "text/plain": [
       "<Figure size 432x288 with 1 Axes>"
      ]
     },
     "metadata": {
      "needs_background": "light"
     },
     "output_type": "display_data"
    }
   ],
   "source": [
    "complexity = list(questions_complexity_df['complexity'])\n",
    "weights = np.ones_like(complexity)/(len(complexity))\n",
    "distribution = plt.hist(complexity, weights=weights, bins = 50)"
   ]
  },
  {
   "cell_type": "code",
   "execution_count": 19,
   "metadata": {},
   "outputs": [],
   "source": [
    "group_data = questions_complexity_df.groupby(['player_id'])[['complexity','answer_x']]"
   ]
  },
  {
   "cell_type": "code",
   "execution_count": 20,
   "metadata": {},
   "outputs": [],
   "source": [
    "from tqdm import tqdm"
   ]
  },
  {
   "cell_type": "code",
   "execution_count": 21,
   "metadata": {},
   "outputs": [
    {
     "name": "stderr",
     "output_type": "stream",
     "text": [
      "100%|███████████████████████████████████████████████████████████████████████████| 57288/57288 [09:24<00:00, 101.46it/s]\n"
     ]
    }
   ],
   "source": [
    "rating = []\n",
    "for player in tqdm(list(questions_complexity_df['player_id'].unique())):\n",
    "    comp, ans = np.asarray([[_] for _ in group_data.get_group(player)['complexity']], dtype=np.float32),\\\n",
    "        group_data.get_group(player)['answer_x'].to_numpy()\n",
    "    #reg = LinearRegression()\n",
    "    reg = LogisticRegression()\n",
    "    if sum(ans) == 0:\n",
    "        rating.append((player, 0))\n",
    "        continue\n",
    "    reg.fit(comp, ans)    \n",
    "    rating.append((player, np.dot(reg.predict_proba([[i] for i in distribution[1][0:50]])[:, 1], distribution[0])))\n",
    "        "
   ]
  },
  {
   "cell_type": "code",
   "execution_count": 22,
   "metadata": {},
   "outputs": [
    {
     "data": {
      "text/plain": [
       "0.9722238431466425"
      ]
     },
     "execution_count": 22,
     "metadata": {},
     "output_type": "execute_result"
    }
   ],
   "source": [
    "maximum = 0\n",
    "for x in rating:\n",
    "    maximum = max(x[1], maximum)\n",
    "maximum"
   ]
  },
  {
   "cell_type": "code",
   "execution_count": 23,
   "metadata": {},
   "outputs": [],
   "source": [
    "rating_df = pd.DataFrame(rating, columns =['id', 'player_rating'])\n",
    "with open('chgk/rating_df.pkl', 'wb') as f:\n",
    "    pickle.dump(rating_df, f)"
   ]
  },
  {
   "cell_type": "code",
   "execution_count": 24,
   "metadata": {},
   "outputs": [],
   "source": [
    "rating_df = pickle.load(open('chgk/rating_df.pkl', 'rb'))"
   ]
  },
  {
   "cell_type": "code",
   "execution_count": 25,
   "metadata": {},
   "outputs": [],
   "source": [
    "rating_df = questions_complexity_df.merge(rating_df, left_on=['player_id'], right_on=['id'])"
   ]
  },
  {
   "cell_type": "code",
   "execution_count": 26,
   "metadata": {},
   "outputs": [
    {
     "data": {
      "text/plain": [
       "<matplotlib.axes._subplots.AxesSubplot at 0x1ea7be278c8>"
      ]
     },
     "execution_count": 26,
     "metadata": {},
     "output_type": "execute_result"
    },
    {
     "data": {
      "image/png": "[encoded data removed]",
      "text/plain": [
       "<Figure size 432x288 with 1 Axes>"
      ]
     },
     "metadata": {
      "needs_background": "light"
     },
     "output_type": "display_data"
    }
   ],
   "source": [
    "rating_df['player_rating'].hist(bins=50)"
   ]
  },
  {
   "cell_type": "code",
   "execution_count": 27,
   "metadata": {},
   "outputs": [
    {
     "data": {
      "text/html": [
       "<div>\n",
       "<style scoped>\n",
       "    .dataframe tbody tr th:only-of-type {\n",
       "        vertical-align: middle;\n",
       "    }\n",
       "\n",
       "    .dataframe tbody tr th {\n",
       "        vertical-align: top;\n",
       "    }\n",
       "\n",
       "    .dataframe thead th {\n",
       "        text-align: right;\n",
       "    }\n",
       "</style>\n",
       "<table border=\"1\" class=\"dataframe\">\n",
       "  <thead>\n",
       "    <tr style=\"text-align: right;\">\n",
       "      <th></th>\n",
       "      <th>player_id</th>\n",
       "      <th>name</th>\n",
       "      <th>patronymic</th>\n",
       "      <th>surname</th>\n",
       "      <th>player_rating</th>\n",
       "    </tr>\n",
       "  </thead>\n",
       "  <tbody>\n",
       "    <tr>\n",
       "      <th>0</th>\n",
       "      <td>36844</td>\n",
       "      <td>Павел</td>\n",
       "      <td>Константинович</td>\n",
       "      <td>Щербина</td>\n",
       "      <td>0.972224</td>\n",
       "    </tr>\n",
       "    <tr>\n",
       "      <th>1</th>\n",
       "      <td>186002</td>\n",
       "      <td>Инга</td>\n",
       "      <td>Андрисовна</td>\n",
       "      <td>Лоренц</td>\n",
       "      <td>0.904278</td>\n",
       "    </tr>\n",
       "    <tr>\n",
       "      <th>2</th>\n",
       "      <td>202410</td>\n",
       "      <td>Валентина</td>\n",
       "      <td></td>\n",
       "      <td>Подюкова</td>\n",
       "      <td>0.900452</td>\n",
       "    </tr>\n",
       "    <tr>\n",
       "      <th>3</th>\n",
       "      <td>133504</td>\n",
       "      <td>София</td>\n",
       "      <td>Евгеньевна</td>\n",
       "      <td>Лебедева</td>\n",
       "      <td>0.894155</td>\n",
       "    </tr>\n",
       "    <tr>\n",
       "      <th>4</th>\n",
       "      <td>171845</td>\n",
       "      <td>Михаил</td>\n",
       "      <td>Владимирович</td>\n",
       "      <td>Завьялов</td>\n",
       "      <td>0.891442</td>\n",
       "    </tr>\n",
       "    <tr>\n",
       "      <th>5</th>\n",
       "      <td>170977</td>\n",
       "      <td>Давид</td>\n",
       "      <td>Сергеевич</td>\n",
       "      <td>Кан</td>\n",
       "      <td>0.891442</td>\n",
       "    </tr>\n",
       "    <tr>\n",
       "      <th>6</th>\n",
       "      <td>215495</td>\n",
       "      <td>Юлия</td>\n",
       "      <td></td>\n",
       "      <td>Крюкова</td>\n",
       "      <td>0.884176</td>\n",
       "    </tr>\n",
       "    <tr>\n",
       "      <th>7</th>\n",
       "      <td>215496</td>\n",
       "      <td>Наталья</td>\n",
       "      <td></td>\n",
       "      <td>Артемьева</td>\n",
       "      <td>0.884176</td>\n",
       "    </tr>\n",
       "    <tr>\n",
       "      <th>8</th>\n",
       "      <td>215497</td>\n",
       "      <td>Екатерина</td>\n",
       "      <td></td>\n",
       "      <td>Горелова</td>\n",
       "      <td>0.884176</td>\n",
       "    </tr>\n",
       "    <tr>\n",
       "      <th>9</th>\n",
       "      <td>119866</td>\n",
       "      <td>Александр</td>\n",
       "      <td></td>\n",
       "      <td>Полторак</td>\n",
       "      <td>0.876566</td>\n",
       "    </tr>\n",
       "  </tbody>\n",
       "</table>\n",
       "</div>"
      ],
      "text/plain": [
       "   player_id       name      patronymic    surname  player_rating\n",
       "0      36844      Павел  Константинович    Щербина       0.972224\n",
       "1     186002       Инга      Андрисовна     Лоренц       0.904278\n",
       "2     202410  Валентина                   Подюкова       0.900452\n",
       "3     133504      София      Евгеньевна   Лебедева       0.894155\n",
       "4     171845     Михаил    Владимирович   Завьялов       0.891442\n",
       "5     170977      Давид       Сергеевич        Кан       0.891442\n",
       "6     215495       Юлия                    Крюкова       0.884176\n",
       "7     215496    Наталья                  Артемьева       0.884176\n",
       "8     215497  Екатерина                   Горелова       0.884176\n",
       "9     119866  Александр                   Полторак       0.876566"
      ]
     },
     "execution_count": 27,
     "metadata": {},
     "output_type": "execute_result"
    }
   ],
   "source": [
    "players = rating_df[['player_id', 'player_rating']].drop_duplicates()\n",
    "top_10 = players.sort_values('player_rating', ascending=False).head(10)\n",
    "top_10 = pd.merge(top_10, players_df, left_on=['player_id'], right_on=['id'])\n",
    "top_10[['player_id', 'name', 'patronymic', 'surname','player_rating']]"
   ]
  },
  {
   "cell_type": "markdown",
   "metadata": {},
   "source": [
    "**3** Качество рейтинг-системы оценивается качеством предсказаний результатов турниров. Но сами повопросные результаты наши модели предсказывать вряд ли смогут, ведь неизвестно, насколько сложными окажутся вопросы в будущих турнирах; да и не нужны эти предсказания сами по себе. Поэтому:\n",
    "* предложите способ предсказать результаты нового турнира с известными составами, но неизвестными вопросами, в виде ранжирования команд;\n",
    "* в качестве метрики качества на тестовом наборе давайте считать ранговые корреляции Спирмена и Кендалла (их можно взять в пакете scipy) между реальным ранжированием в результатах турнира и предсказанным моделью, усреднённые по тестовому множеству турниров.\n",
    "\n",
    "Cредняя корреляция Спирмена на тестовом множестве 2020 года во всех моделях, включая baselines, получалась порядка 0.7-0.8, а корреляция Кендалла — порядка 0.5-0.6. Если у вас корреляции вышли за 0.9 или, наоборот, упали ниже 0.3, скорее всего где-то баг."
   ]
  },
  {
   "cell_type": "markdown",
   "metadata": {},
   "source": [
    "Будем предсказывать результат нового турнира с известными составами, но неизвестными вопросами исходя из того, что вероятность правильного ответа команды на вопрос: "
   ]
  },
  {
   "cell_type": "markdown",
   "metadata": {},
   "source": [
    "$$p(correct\\:answer) = 1 - \\prod_{n=1}^{N}p_n(uncorrect\\:answer)$$"
   ]
  },
  {
   "cell_type": "markdown",
   "metadata": {},
   "source": [
    ", где N - число членов команды."
   ]
  },
  {
   "cell_type": "code",
   "execution_count": 28,
   "metadata": {},
   "outputs": [],
   "source": [
    "from scipy import stats"
   ]
  },
  {
   "cell_type": "code",
   "execution_count": 29,
   "metadata": {},
   "outputs": [],
   "source": [
    "tournaments = pickle.load(open('chgk/tournaments.pkl', 'rb'))\n",
    "tournaments_df = pd.DataFrame.from_dict(tournaments, orient='index')\n",
    "tournaments_test_df = tournaments_df[tournaments_df['dateStart'].str[:4]=='2020']"
   ]
  },
  {
   "cell_type": "code",
   "execution_count": 30,
   "metadata": {},
   "outputs": [],
   "source": [
    "def win_prob(team):\n",
    "    prod = 1\n",
    "    for player_id in team:\n",
    "        if player_id in players['player_id'].values:\n",
    "            prod *= (1 - players[players['player_id']==player_id]['player_rating'].values[0])\n",
    "    return 1 - prod"
   ]
  },
  {
   "cell_type": "code",
   "execution_count": 31,
   "metadata": {},
   "outputs": [
    {
     "name": "stderr",
     "output_type": "stream",
     "text": [
      "100%|████████████████████████████████████████████████████████████████████████████████| 418/418 [02:47<00:00,  2.50it/s]\n"
     ]
    }
   ],
   "source": [
    "spearman = []\n",
    "kendall = []\n",
    "\n",
    "for tournament_id in tqdm(tournaments_test_df['id']):\n",
    "    if results[tournament_id] != [] and 'position' in results[tournament_id][0].keys():\n",
    "        real_score = []\n",
    "        predicted_score = []\n",
    "        for team in results[tournament_id]:\n",
    "            mask = team.get('mask')\n",
    "            if mask is None or '?' in mask or 'X' in mask:\n",
    "                continue\n",
    "            else:\n",
    "                real_score.append(team.get('position'))\n",
    "                members = []\n",
    "                for member in team.get('teamMembers'):\n",
    "                    members.append(member.get('player').get('id'))\n",
    "                 \n",
    "                predicted_score.append(win_prob(members))\n",
    "                \n",
    "        spearman.append(stats.spearmanr(np.asarray(predicted_score), -np.asarray(real_score))[0])\n",
    "        kendall.append(stats.kendalltau(np.asarray(predicted_score), -np.asarray(real_score))[0])\n",
    "\n",
    "        \n"
   ]
  },
  {
   "cell_type": "code",
   "execution_count": 32,
   "metadata": {},
   "outputs": [
    {
     "name": "stdout",
     "output_type": "stream",
     "text": [
      "Spearman:  0.6980580884416875\n"
     ]
    }
   ],
   "source": [
    "nan = spearman[0]\n",
    "spearman = [_ for _ in spearman if _ is not nan]\n",
    "print('Spearman: ', sum(spearman)/len(spearman))"
   ]
  },
  {
   "cell_type": "code",
   "execution_count": 33,
   "metadata": {},
   "outputs": [
    {
     "name": "stdout",
     "output_type": "stream",
     "text": [
      "Kendall:  0.5444618805753404\n"
     ]
    }
   ],
   "source": [
    "nan = kendall[0]\n",
    "kendall = [_ for _ in kendall if _ is not nan]\n",
    "print('Kendall: ', sum(kendall)/len(kendall))"
   ]
  },
  {
   "cell_type": "markdown",
   "metadata": {},
   "source": [
    "**4** Теперь главное: ЧГК — это всё-таки командная игра. Поэтому:\n",
    "* предложите способ учитывать то, что на вопрос отвечают сразу несколько игроков; скорее всего, понадобятся скрытые переменные; не стесняйтесь делать упрощающие предположения, но теперь переменные “игрок X ответил на вопрос Y” при условии данных должны стать зависимыми для игроков одной и той же команды;\n",
    "* разработайте EM-схему для обучения этой модели, реализуйте её в коде;\n",
    "* обучите несколько итераций, убедитесь, что целевые метрики со временем растут (скорее всего, ненамного, но расти должны), выберите лучшую модель, используя целевые метрики.\n",
    "\n",
    "\n"
   ]
  },
  {
   "cell_type": "markdown",
   "metadata": {},
   "source": [
    "Введем скрытую переменную - вероятность того, что данный игрок ответил на данный вопрос правильно.\n",
    "\n",
    "На M шаге максимизируем правдоподобие скрытой переменной.\n",
    "\n",
    "На E шаге предскажем вероятность игрока ответить на данный вопрос, в зависимости от силы игрока и сложности вопроса."
   ]
  },
  {
   "cell_type": "code",
   "execution_count": 75,
   "metadata": {},
   "outputs": [],
   "source": [
    "#one-hot encoding \n",
    "encoder = OneHotEncoder(handle_unknown='ignore')\n",
    "encoder.fit(data_df[['player_id', 'question_id']])\n",
    "data_matrix = encoder.transform(data_df[['player_id', 'question_id']])\n",
    "counts = np.array((data_matrix != 0).sum(axis=0)).ravel()"
   ]
  },
  {
   "cell_type": "code",
   "execution_count": 76,
   "metadata": {},
   "outputs": [],
   "source": [
    "def sigmoid(a, b):\n",
    "    return 1 / (1 + np.exp(-a@b))\n",
    "\n",
    "def cross_entropy(pred, real):\n",
    "    return (pred * (1 - real) - (1 - pred) * real)\n",
    "\n",
    "def log_cross_entropy(pred, real):\n",
    "    return pred * np.log(real) + (1 - pred) * np.log(1 - real)"
   ]
  },
  {
   "cell_type": "code",
   "execution_count": 77,
   "metadata": {},
   "outputs": [],
   "source": [
    "weights = np.random.randn(data_matrix.shape[1])\n",
    "answer_prob = sigmoid(data_matrix, weights) "
   ]
  },
  {
   "cell_type": "code",
   "execution_count": 78,
   "metadata": {},
   "outputs": [],
   "source": [
    "data_df['no_answer_prob'] = 1 - answer_prob\n",
    "group_data_df = data_df[['team_id', 'question_id', 'no_answer_prob']].groupby(by=['team_id', 'question_id'],\\\n",
    "    sort=False, as_index=False).prod()"
   ]
  },
  {
   "cell_type": "code",
   "execution_count": 79,
   "metadata": {},
   "outputs": [],
   "source": [
    "def trans_index(prods):\n",
    "    prods.index = (group_data_df['team_id'].apply(str) + group_data_df['question_id'].apply(str)).apply(int)\n",
    "    return prods[(data_df['team_id'].apply(str) + data_df['question_id'].apply(str)).apply(int)].to_numpy()"
   ]
  },
  {
   "cell_type": "code",
   "execution_count": 80,
   "metadata": {},
   "outputs": [],
   "source": [
    "def E_step(answer_prob):\n",
    "    data_df['no_answer_prob'] = 1 - answer_prob\n",
    "    prods = data_df[['team_id', 'question_id', 'no_answer_prob']].\\\n",
    "        groupby(by=['team_id', 'question_id'], sort=False, as_index=False).prod()['no_answer_prob']\n",
    "    prods = trans_index(prods)\n",
    "    hid = answer_prob / (1 - prods)\n",
    "    hid[data_df['answer'] == 0] = 0\n",
    "    return hid\n",
    "\n",
    "def M_step(data_matrix, weights, hid):\n",
    "    weights = weights.copy()\n",
    "    for i in range(50):\n",
    "        answer_prob = sigmoid(data_matrix, weights)\n",
    "        weights += data_matrix.T@cross_entropy(hid, answer_prob) / counts\n",
    "    return weights\n",
    "\n",
    "def likelihood(hid, data_matrix, weights):\n",
    "    answer_prob = sigmoid(data_matrix, weights)\n",
    "    return np.mean(log_cross_entropy(hid, answer_prob))"
   ]
  },
  {
   "cell_type": "code",
   "execution_count": 81,
   "metadata": {},
   "outputs": [
    {
     "name": "stderr",
     "output_type": "stream",
     "text": [
      "\n",
      "\n",
      "\n",
      "\n",
      "  0%|                                                                                           | 0/10 [00:00<?, ?it/s]\u001b[A\u001b[A\u001b[A\u001b[A\n",
      "\n",
      "\n",
      "\n",
      " 10%|████████▏                                                                         | 1/10 [03:34<32:07, 214.20s/it]\u001b[A\u001b[A\u001b[A\u001b[A"
     ]
    },
    {
     "name": "stdout",
     "output_type": "stream",
     "text": [
      "Step: 0, Likelihood: -0.31908423263398095\n"
     ]
    },
    {
     "name": "stderr",
     "output_type": "stream",
     "text": [
      "\n",
      "\n",
      "\n",
      "\n",
      " 20%|████████████████▍                                                                 | 2/10 [06:22<26:42, 200.34s/it]\u001b[A\u001b[A\u001b[A\u001b[A"
     ]
    },
    {
     "name": "stdout",
     "output_type": "stream",
     "text": [
      "Step: 1, Likelihood: -0.2246472754597551\n"
     ]
    },
    {
     "name": "stderr",
     "output_type": "stream",
     "text": [
      "\n",
      "\n",
      "\n",
      "\n",
      " 30%|████████████████████████▌                                                         | 3/10 [09:09<22:12, 190.35s/it]\u001b[A\u001b[A\u001b[A\u001b[A"
     ]
    },
    {
     "name": "stdout",
     "output_type": "stream",
     "text": [
      "Step: 2, Likelihood: -0.17636474259455442\n"
     ]
    },
    {
     "name": "stderr",
     "output_type": "stream",
     "text": [
      "\n",
      "\n",
      "\n",
      "\n",
      " 40%|████████████████████████████████▊                                                 | 4/10 [11:55<18:18, 183.09s/it]\u001b[A\u001b[A\u001b[A\u001b[A"
     ]
    },
    {
     "name": "stdout",
     "output_type": "stream",
     "text": [
      "Step: 3, Likelihood: -0.1463492711922281\n"
     ]
    },
    {
     "name": "stderr",
     "output_type": "stream",
     "text": [
      "\n",
      "\n",
      "\n",
      "\n",
      " 50%|█████████████████████████████████████████                                         | 5/10 [14:41<14:49, 177.93s/it]\u001b[A\u001b[A\u001b[A\u001b[A"
     ]
    },
    {
     "name": "stdout",
     "output_type": "stream",
     "text": [
      "Step: 4, Likelihood: -0.125723219313331\n"
     ]
    },
    {
     "name": "stderr",
     "output_type": "stream",
     "text": [
      "\n",
      "\n",
      "\n",
      "\n",
      " 60%|█████████████████████████████████████████████████▏                                | 6/10 [16:12<10:07, 151.90s/it]\u001b[A\u001b[A\u001b[A\u001b[A"
     ]
    },
    {
     "name": "stdout",
     "output_type": "stream",
     "text": [
      "Step: 5, Likelihood: -0.11062105327545876\n"
     ]
    },
    {
     "name": "stderr",
     "output_type": "stream",
     "text": [
      "\n",
      "\n",
      "\n",
      "\n",
      " 70%|█████████████████████████████████████████████████████████▍                        | 7/10 [17:28<06:27, 129.20s/it]\u001b[A\u001b[A\u001b[A\u001b[A"
     ]
    },
    {
     "name": "stdout",
     "output_type": "stream",
     "text": [
      "Step: 6, Likelihood: -0.09906213125341586\n"
     ]
    },
    {
     "name": "stderr",
     "output_type": "stream",
     "text": [
      "\n",
      "\n",
      "\n",
      "\n",
      " 80%|█████████████████████████████████████████████████████████████████▌                | 8/10 [18:37<03:42, 111.01s/it]\u001b[A\u001b[A\u001b[A\u001b[A"
     ]
    },
    {
     "name": "stdout",
     "output_type": "stream",
     "text": [
      "Step: 7, Likelihood: -0.0899187733733331\n"
     ]
    },
    {
     "name": "stderr",
     "output_type": "stream",
     "text": [
      "\n",
      "\n",
      "\n",
      "\n",
      " 90%|██████████████████████████████████████████████████████████████████████████▋        | 9/10 [19:45<01:38, 98.28s/it]\u001b[A\u001b[A\u001b[A\u001b[A"
     ]
    },
    {
     "name": "stdout",
     "output_type": "stream",
     "text": [
      "Step: 8, Likelihood: -0.08249913937915591\n"
     ]
    },
    {
     "name": "stderr",
     "output_type": "stream",
     "text": [
      "\n",
      "\n",
      "\n",
      "\n",
      "100%|█████████████████████████████████████████████████████████████████████████████████| 10/10 [20:54<00:00, 125.46s/it]\u001b[A\u001b[A\u001b[A\u001b[A"
     ]
    },
    {
     "name": "stdout",
     "output_type": "stream",
     "text": [
      "Step: 9, Likelihood: -0.07635427144188356\n"
     ]
    },
    {
     "name": "stderr",
     "output_type": "stream",
     "text": [
      "\n"
     ]
    }
   ],
   "source": [
    "for i in tqdm(range(10)):\n",
    "    if i == 0:\n",
    "        answer_prob = sigmoid(data_matrix, weights)\n",
    "        hid = E_step(answer_prob)\n",
    "    weights = M_step(data_matrix, weights, hid)\n",
    "    answer_prob = sigmoid(data_matrix, weights)\n",
    "    hid = E_step(answer_prob)\n",
    "    print(\"Step: %d, Likelihood: %s\" % (i, likelihood(hid, data_matrix, weights)), end='\\n')"
   ]
  },
  {
   "cell_type": "code",
   "execution_count": 82,
   "metadata": {},
   "outputs": [],
   "source": [
    "with open('chgk/weights.pkl', 'wb') as f:\n",
    "    pickle.dump(weights, f)\n",
    "weights = pickle.load(open('chgk/weights.pkl', 'rb'))"
   ]
  },
  {
   "cell_type": "code",
   "execution_count": 83,
   "metadata": {},
   "outputs": [],
   "source": [
    "data_df['player_rating'] = 0\n",
    "player_strength = []\n",
    "question_complexity = []"
   ]
  },
  {
   "cell_type": "code",
   "execution_count": 84,
   "metadata": {},
   "outputs": [],
   "source": [
    "player_strength = pd.Series(np.zeros(len(data_df['player_id'].unique())), data_df['player_id'].unique())\n",
    "for i, key in enumerate(sorted(data_df['player_id'].unique())):\n",
    "    player_strength[key] = weights[i]\n",
    "    \n",
    "shift = len(data_df['player_id'].unique())\n",
    "question_complexity = pd.Series(np.zeros(len(data_df['question_id'].unique())), data_df['question_id'].unique())\n",
    "for i, key in enumerate(sorted(data_df['question_id'].unique())):\n",
    "    question_complexity[key] = weights[i + shift]"
   ]
  },
  {
   "cell_type": "code",
   "execution_count": 85,
   "metadata": {},
   "outputs": [],
   "source": [
    "players = data_df[['player_id', 'player_rating']].drop_duplicates()\n",
    "players_rating = []"
   ]
  },
  {
   "cell_type": "code",
   "execution_count": 86,
   "metadata": {},
   "outputs": [],
   "source": [
    "for player in players['player_id']:\n",
    "    preds = 1 / (1 + np.exp(-(player_strength[player] + distribution[1][0:50]))) \n",
    "    rating = np.dot(preds, distribution[0])       \n",
    "    players_rating.append(rating) \n",
    "\n",
    "players['player_rating'] = players_rating"
   ]
  },
  {
   "cell_type": "code",
   "execution_count": 87,
   "metadata": {},
   "outputs": [],
   "source": [
    "top_10 = players.sort_values('player_rating', ascending=False).head(10)"
   ]
  },
  {
   "cell_type": "code",
   "execution_count": 89,
   "metadata": {},
   "outputs": [
    {
     "data": {
      "text/html": [
       "<div>\n",
       "<style scoped>\n",
       "    .dataframe tbody tr th:only-of-type {\n",
       "        vertical-align: middle;\n",
       "    }\n",
       "\n",
       "    .dataframe tbody tr th {\n",
       "        vertical-align: top;\n",
       "    }\n",
       "\n",
       "    .dataframe thead th {\n",
       "        text-align: right;\n",
       "    }\n",
       "</style>\n",
       "<table border=\"1\" class=\"dataframe\">\n",
       "  <thead>\n",
       "    <tr style=\"text-align: right;\">\n",
       "      <th></th>\n",
       "      <th>player_id</th>\n",
       "      <th>name_x</th>\n",
       "      <th>patronymic_x</th>\n",
       "      <th>surname_x</th>\n",
       "      <th>player_rating</th>\n",
       "    </tr>\n",
       "  </thead>\n",
       "  <tbody>\n",
       "    <tr>\n",
       "      <th>0</th>\n",
       "      <td>36844</td>\n",
       "      <td>Павел</td>\n",
       "      <td>Константинович</td>\n",
       "      <td>Щербина</td>\n",
       "      <td>0.945981</td>\n",
       "    </tr>\n",
       "    <tr>\n",
       "      <th>1</th>\n",
       "      <td>12785</td>\n",
       "      <td>Вадим</td>\n",
       "      <td>Александрович</td>\n",
       "      <td>Ишин</td>\n",
       "      <td>0.929120</td>\n",
       "    </tr>\n",
       "    <tr>\n",
       "      <th>2</th>\n",
       "      <td>27403</td>\n",
       "      <td>Максим</td>\n",
       "      <td>Михайлович</td>\n",
       "      <td>Руссо</td>\n",
       "      <td>0.904962</td>\n",
       "    </tr>\n",
       "    <tr>\n",
       "      <th>3</th>\n",
       "      <td>90527</td>\n",
       "      <td>Дмитрий</td>\n",
       "      <td>Олегович</td>\n",
       "      <td>Вальтер</td>\n",
       "      <td>0.885283</td>\n",
       "    </tr>\n",
       "    <tr>\n",
       "      <th>4</th>\n",
       "      <td>195091</td>\n",
       "      <td>Ольга</td>\n",
       "      <td>Фёдоровна</td>\n",
       "      <td>Остросаблина</td>\n",
       "      <td>0.879639</td>\n",
       "    </tr>\n",
       "    <tr>\n",
       "      <th>5</th>\n",
       "      <td>27822</td>\n",
       "      <td>Михаил</td>\n",
       "      <td>Владимирович</td>\n",
       "      <td>Савченков</td>\n",
       "      <td>0.850761</td>\n",
       "    </tr>\n",
       "    <tr>\n",
       "      <th>6</th>\n",
       "      <td>82688</td>\n",
       "      <td>Игорь</td>\n",
       "      <td>Станиславович</td>\n",
       "      <td>Калгин</td>\n",
       "      <td>0.844716</td>\n",
       "    </tr>\n",
       "    <tr>\n",
       "      <th>7</th>\n",
       "      <td>22935</td>\n",
       "      <td>Илья</td>\n",
       "      <td>Сергеевич</td>\n",
       "      <td>Новиков</td>\n",
       "      <td>0.834927</td>\n",
       "    </tr>\n",
       "    <tr>\n",
       "      <th>8</th>\n",
       "      <td>28751</td>\n",
       "      <td>Иван</td>\n",
       "      <td>Николаевич</td>\n",
       "      <td>Семушин</td>\n",
       "      <td>0.834908</td>\n",
       "    </tr>\n",
       "    <tr>\n",
       "      <th>9</th>\n",
       "      <td>206158</td>\n",
       "      <td>Екатерина</td>\n",
       "      <td>Григорьевна</td>\n",
       "      <td>Золотухина</td>\n",
       "      <td>0.834687</td>\n",
       "    </tr>\n",
       "  </tbody>\n",
       "</table>\n",
       "</div>"
      ],
      "text/plain": [
       "   player_id     name_x    patronymic_x     surname_x  player_rating\n",
       "0      36844      Павел  Константинович       Щербина       0.945981\n",
       "1      12785      Вадим   Александрович          Ишин       0.929120\n",
       "2      27403     Максим      Михайлович         Руссо       0.904962\n",
       "3      90527    Дмитрий        Олегович       Вальтер       0.885283\n",
       "4     195091      Ольга       Фёдоровна  Остросаблина       0.879639\n",
       "5      27822     Михаил    Владимирович     Савченков       0.850761\n",
       "6      82688      Игорь   Станиславович        Калгин       0.844716\n",
       "7      22935       Илья       Сергеевич       Новиков       0.834927\n",
       "8      28751       Иван      Николаевич       Семушин       0.834908\n",
       "9     206158  Екатерина     Григорьевна    Золотухина       0.834687"
      ]
     },
     "execution_count": 89,
     "metadata": {},
     "output_type": "execute_result"
    }
   ],
   "source": [
    "top_10 = pd.merge(top_10, players_df, left_on=['player_id'], right_on=['id'])\n",
    "top_10[['player_id', 'name_x', 'patronymic_x', 'surname_x', 'player_rating']]"
   ]
  },
  {
   "cell_type": "code",
   "execution_count": 90,
   "metadata": {},
   "outputs": [],
   "source": [
    "tournaments = pickle.load(open('chgk/tournaments.pkl', 'rb'))\n",
    "tournaments_df = pd.DataFrame.from_dict(tournaments, orient='index')\n",
    "tournaments_test_df = tournaments_df[tournaments_df['dateStart'].str[:4]=='2020']"
   ]
  },
  {
   "cell_type": "code",
   "execution_count": 92,
   "metadata": {},
   "outputs": [],
   "source": [
    "def win_prob(team):\n",
    "    prod = 1\n",
    "    for player_id in team:\n",
    "        if player_id in players['player_id'].values:\n",
    "            prod *= (1 - players[players['player_id']==player_id]['player_rating'].values[0])\n",
    "    return 1 - prod"
   ]
  },
  {
   "cell_type": "code",
   "execution_count": 93,
   "metadata": {},
   "outputs": [
    {
     "name": "stderr",
     "output_type": "stream",
     "text": [
      "\n",
      "\n",
      "\n",
      "\n",
      "  0%|                                                                                          | 0/418 [00:00<?, ?it/s]\u001b[A\u001b[A\u001b[A\u001b[A\n",
      "\n",
      "\n",
      "\n",
      "  1%|▊                                                                                 | 4/418 [00:00<01:13,  5.62it/s]\u001b[A\u001b[A\u001b[A\u001b[A\n",
      "\n",
      "\n",
      "\n",
      "  1%|▉                                                                                 | 5/418 [00:00<01:22,  5.00it/s]\u001b[A\u001b[A\u001b[A\u001b[A\n",
      "\n",
      "\n",
      "\n",
      "  2%|█▊                                                                                | 9/418 [00:01<01:23,  4.92it/s]\u001b[A\u001b[A\u001b[A\u001b[A\n",
      "\n",
      "\n",
      "\n",
      "  2%|█▉                                                                               | 10/418 [00:02<01:52,  3.62it/s]\u001b[A\u001b[A\u001b[A\u001b[A\n",
      "\n",
      "\n",
      "\n",
      "  3%|██▏                                                                              | 11/418 [00:02<02:48,  2.41it/s]\u001b[A\u001b[A\u001b[A\u001b[A\n",
      "\n",
      "\n",
      "\n",
      "  3%|██▎                                                                              | 12/418 [00:03<02:58,  2.28it/s]\u001b[A\u001b[A\u001b[A\u001b[A\n",
      "\n",
      "\n",
      "\n",
      "  3%|██▌                                                                              | 13/418 [00:03<02:33,  2.64it/s]\u001b[A\u001b[A\u001b[A\u001b[A\n",
      "\n",
      "\n",
      "\n",
      "  4%|██▉                                                                              | 15/418 [00:03<01:56,  3.45it/s]\u001b[A\u001b[A\u001b[A\u001b[A\n",
      "\n",
      "\n",
      "\n",
      "  4%|███                                                                              | 16/418 [00:04<02:01,  3.32it/s]\u001b[A\u001b[A\u001b[A\u001b[A\n",
      "\n",
      "\n",
      "\n",
      "  5%|████                                                                             | 21/418 [00:05<01:54,  3.47it/s]\u001b[A\u001b[A\u001b[A\u001b[A\n",
      "\n",
      "\n",
      "\n",
      "  5%|████▎                                                                            | 22/418 [00:06<03:21,  1.96it/s]\u001b[A\u001b[A\u001b[A\u001b[A\n",
      "\n",
      "\n",
      "\n",
      "  6%|████▍                                                                            | 23/418 [00:06<03:06,  2.11it/s]\u001b[A\u001b[A\u001b[A\u001b[A\n",
      "\n",
      "\n",
      "\n",
      "  6%|████▋                                                                            | 24/418 [00:07<03:35,  1.83it/s]\u001b[A\u001b[A\u001b[A\u001b[A\n",
      "\n",
      "\n",
      "\n",
      "  7%|█████▌                                                                           | 29/418 [00:10<03:37,  1.79it/s]\u001b[A\u001b[A\u001b[A\u001b[A\n",
      "\n",
      "\n",
      "\n",
      "  7%|█████▊                                                                           | 30/418 [00:13<07:42,  1.19s/it]\u001b[A\u001b[A\u001b[A\u001b[A\n",
      "\n",
      "\n",
      "\n",
      "  8%|██████▊                                                                          | 35/418 [00:13<05:34,  1.15it/s]\u001b[A\u001b[A\u001b[A\u001b[A\n",
      "\n",
      "\n",
      "\n",
      "  9%|██████▉                                                                          | 36/418 [00:14<04:48,  1.32it/s]\u001b[A\u001b[A\u001b[A\u001b[A\n",
      "\n",
      "\n",
      "\n",
      "  9%|███████▏                                                                         | 37/418 [00:14<04:03,  1.56it/s]\u001b[A\u001b[A\u001b[A\u001b[A\n",
      "\n",
      "\n",
      "\n",
      "  9%|███████▌                                                                         | 39/418 [00:15<03:04,  2.05it/s]\u001b[A\u001b[A\u001b[A\u001b[A\n",
      "\n",
      "\n",
      "\n",
      " 10%|███████▉                                                                         | 41/418 [00:15<02:25,  2.58it/s]\u001b[A\u001b[A\u001b[A\u001b[A\n",
      "\n",
      "\n",
      "\n",
      " 10%|████████▏                                                                        | 42/418 [00:16<03:26,  1.82it/s]\u001b[A\u001b[A\u001b[A\u001b[A\n",
      "\n",
      "\n",
      "\n",
      " 10%|████████▎                                                                        | 43/418 [00:17<03:55,  1.59it/s]\u001b[A\u001b[A\u001b[A\u001b[A\n",
      "\n",
      "\n",
      "\n",
      " 11%|█████████                                                                        | 47/418 [00:19<04:00,  1.54it/s]\u001b[A\u001b[A\u001b[A\u001b[A\n",
      "\n",
      "\n",
      "\n",
      " 11%|█████████▎                                                                       | 48/418 [00:20<03:26,  1.79it/s]\u001b[A\u001b[A\u001b[A\u001b[A\n",
      "\n",
      "\n",
      "\n",
      " 12%|█████████▍                                                                       | 49/418 [00:20<03:10,  1.94it/s]\u001b[A\u001b[A\u001b[A\u001b[A\n",
      "\n",
      "\n",
      "\n",
      " 12%|█████████▋                                                                       | 50/418 [00:20<02:53,  2.12it/s]\u001b[A\u001b[A\u001b[A\u001b[A\n",
      "\n",
      "\n",
      "\n",
      " 12%|██████████                                                                       | 52/418 [00:21<02:52,  2.12it/s]\u001b[A\u001b[A\u001b[A\u001b[A\n",
      "\n",
      "\n",
      "\n",
      " 13%|██████████▍                                                                      | 54/418 [00:22<02:05,  2.90it/s]\u001b[A\u001b[A\u001b[A\u001b[A\n",
      "\n",
      "\n",
      "\n",
      " 16%|████████████▊                                                                    | 66/418 [00:23<01:40,  3.50it/s]\u001b[A\u001b[A\u001b[A\u001b[A\n",
      "\n",
      "\n",
      "\n",
      " 16%|████████████▉                                                                    | 67/418 [00:25<03:27,  1.70it/s]\u001b[A\u001b[A\u001b[A\u001b[A\n",
      "\n",
      "\n",
      "\n",
      " 16%|█████████████▏                                                                   | 68/418 [00:25<03:53,  1.50it/s]\u001b[A\u001b[A\u001b[A\u001b[A\n",
      "\n",
      "\n",
      "\n",
      " 17%|█████████████▎                                                                   | 69/418 [00:26<02:56,  1.97it/s]\u001b[A\u001b[A\u001b[A\u001b[A\n",
      "\n",
      "\n",
      "\n",
      " 18%|██████████████▎                                                                  | 74/418 [00:26<02:04,  2.76it/s]\u001b[A\u001b[A\u001b[A\u001b[A\n",
      "\n",
      "\n",
      "\n",
      " 19%|███████████████▎                                                                 | 79/418 [00:26<01:31,  3.70it/s]\u001b[A\u001b[A\u001b[A\u001b[A\n",
      "\n",
      "\n",
      "\n",
      " 19%|███████████████▋                                                                 | 81/418 [00:26<01:12,  4.66it/s]\u001b[A\u001b[A\u001b[A\u001b[A\n",
      "\n",
      "\n",
      "\n",
      " 20%|████████████████▎                                                                | 84/418 [00:27<01:05,  5.07it/s]\u001b[A\u001b[A\u001b[A\u001b[A\n",
      "\n",
      "\n",
      "\n",
      " 21%|████████████████▋                                                                | 86/418 [00:27<01:09,  4.78it/s]\u001b[A\u001b[A\u001b[A\u001b[A\n",
      "\n",
      "\n",
      "\n",
      " 24%|███████████████████▎                                                            | 101/418 [00:28<00:51,  6.15it/s]\u001b[A\u001b[A\u001b[A\u001b[A\n",
      "\n",
      "\n",
      "\n",
      " 25%|████████████████████                                                            | 105/418 [00:28<00:38,  8.17it/s]\u001b[A\u001b[A\u001b[A\u001b[A\n",
      "\n",
      "\n",
      "\n",
      " 27%|█████████████████████▍                                                          | 112/418 [00:29<00:37,  8.21it/s]\u001b[A\u001b[A\u001b[A\u001b[A\n",
      "\n",
      "\n",
      "\n",
      " 27%|█████████████████████▊                                                          | 114/418 [00:30<01:05,  4.64it/s]\u001b[A\u001b[A\u001b[A\u001b[A\n",
      "\n",
      "\n",
      "\n",
      " 28%|██████████████████████▍                                                         | 117/418 [00:30<01:03,  4.73it/s]\u001b[A\u001b[A\u001b[A\u001b[A\n",
      "\n",
      "\n",
      "\n",
      " 28%|██████████████████████▌                                                         | 118/418 [00:31<01:08,  4.38it/s]\u001b[A\u001b[A\u001b[A\u001b[A\n",
      "\n",
      "\n",
      "\n",
      " 28%|██████████████████████▊                                                         | 119/418 [00:31<00:57,  5.25it/s]\u001b[A\u001b[A\u001b[A\u001b[A\n",
      "\n",
      "\n",
      "\n",
      " 29%|███████████████████████▏                                                        | 121/418 [00:32<01:41,  2.94it/s]\u001b[A\u001b[A\u001b[A\u001b[A\n",
      "\n",
      "\n",
      "\n",
      " 29%|███████████████████████▎                                                        | 122/418 [00:32<01:24,  3.48it/s]\u001b[A\u001b[A\u001b[A\u001b[A\n",
      "\n",
      "\n",
      "\n",
      " 30%|███████████████████████▉                                                        | 125/418 [00:33<01:07,  4.32it/s]\u001b[A\u001b[A\u001b[A\u001b[A\n",
      "\n",
      "\n",
      "\n",
      " 30%|████████████████████████                                                        | 126/418 [00:33<01:04,  4.55it/s]\u001b[A\u001b[A\u001b[A\u001b[A\n",
      "\n",
      "\n",
      "\n",
      " 30%|████████████████████████▎                                                       | 127/418 [00:33<01:03,  4.60it/s]\u001b[A\u001b[A\u001b[A\u001b[A\n",
      "\n",
      "\n",
      "\n",
      " 32%|█████████████████████████▎                                                      | 132/418 [00:34<00:54,  5.29it/s]\u001b[A\u001b[A\u001b[A\u001b[A\n",
      "\n",
      "\n",
      "\n",
      " 33%|██████████████████████████▏                                                     | 137/418 [00:34<00:40,  6.92it/s]\u001b[A\u001b[A\u001b[A\u001b[A\n",
      "\n",
      "\n",
      "\n",
      " 33%|██████████████████████████▌                                                     | 139/418 [00:34<00:39,  7.11it/s]\u001b[A\u001b[A\u001b[A\u001b[A\n",
      "\n",
      "\n",
      "\n",
      " 35%|███████████████████████████▊                                                    | 145/418 [00:34<00:30,  9.04it/s]\u001b[A\u001b[A\u001b[A\u001b[A\n",
      "\n",
      "\n",
      "\n",
      " 36%|████████████████████████████▌                                                   | 149/418 [00:34<00:24, 11.17it/s]\u001b[A\u001b[A\u001b[A\u001b[A\n",
      "\n",
      "\n",
      "\n",
      " 36%|████████████████████████████▉                                                   | 151/418 [00:35<00:22, 11.75it/s]\u001b[A\u001b[A\u001b[A\u001b[A\n",
      "\n",
      "\n",
      "\n",
      " 37%|█████████████████████████████▎                                                  | 153/418 [00:35<00:35,  7.43it/s]\u001b[A\u001b[A\u001b[A\u001b[A\n",
      "\n",
      "\n",
      "\n",
      " 37%|█████████████████████████████▋                                                  | 155/418 [00:36<00:49,  5.28it/s]\u001b[A\u001b[A\u001b[A\u001b[A\n",
      "\n",
      "\n",
      "\n",
      " 38%|██████████████████████████████                                                  | 157/418 [00:36<00:49,  5.30it/s]\u001b[A\u001b[A\u001b[A\u001b[A\n",
      "\n",
      "\n",
      "\n",
      " 38%|██████████████████████████████▏                                                 | 158/418 [00:37<01:08,  3.79it/s]\u001b[A\u001b[A\u001b[A\u001b[A\n",
      "\n",
      "\n",
      "\n",
      " 39%|███████████████████████████████                                                 | 162/418 [00:37<00:49,  5.20it/s]\u001b[A\u001b[A\u001b[A\u001b[A\n",
      "\n",
      "\n",
      "\n",
      " 39%|███████████████████████████████▍                                                | 164/418 [00:37<00:41,  6.19it/s]\u001b[A\u001b[A\u001b[A\u001b[A\n",
      "\n",
      "\n",
      "\n",
      " 40%|███████████████████████████████▊                                                | 166/418 [00:37<00:35,  7.10it/s]\u001b[A\u001b[A\u001b[A\u001b[A\n",
      "\n",
      "\n",
      "\n",
      " 40%|████████████████████████████████▏                                               | 168/418 [00:37<00:29,  8.59it/s]\u001b[A\u001b[A\u001b[A\u001b[A\n",
      "\n",
      "\n",
      "\n",
      " 41%|████████████████████████████████▌                                               | 170/418 [00:38<00:40,  6.06it/s]\u001b[A\u001b[A\u001b[A\u001b[A\n",
      "\n",
      "\n",
      "\n",
      " 41%|████████████████████████████████▉                                               | 172/418 [00:38<00:53,  4.58it/s]\u001b[A\u001b[A\u001b[A\u001b[A\n",
      "\n",
      "\n",
      "\n",
      " 42%|█████████████████████████████████▉                                              | 177/418 [00:39<00:39,  6.09it/s]\u001b[A\u001b[A\u001b[A\u001b[A\n",
      "\n",
      "\n",
      "\n",
      " 43%|██████████████████████████████████▎                                             | 179/418 [00:39<00:41,  5.74it/s]\u001b[A\u001b[A\u001b[A\u001b[A\n",
      "\n",
      "\n",
      "\n",
      " 43%|██████████████████████████████████▋                                             | 181/418 [00:39<00:37,  6.30it/s]\u001b[A\u001b[A\u001b[A\u001b[A\n",
      "\n",
      "\n",
      "\n",
      " 44%|███████████████████████████████████▍                                            | 185/418 [00:39<00:28,  8.09it/s]\u001b[A\u001b[A\u001b[A\u001b[A\n",
      "\n",
      "\n",
      "\n",
      " 45%|███████████████████████████████████▊                                            | 187/418 [00:40<00:38,  6.00it/s]\u001b[A\u001b[A\u001b[A\u001b[A\n",
      "\n",
      "\n",
      "\n",
      " 45%|████████████████████████████████████▏                                           | 189/418 [00:40<00:32,  7.02it/s]\u001b[A\u001b[A\u001b[A\u001b[A\n",
      "\n",
      "\n",
      "\n",
      " 46%|████████████████████████████████████▌                                           | 191/418 [00:41<00:43,  5.24it/s]\u001b[A\u001b[A\u001b[A\u001b[A\n",
      "\n",
      "\n",
      "\n",
      " 46%|████████████████████████████████████▋                                           | 192/418 [00:41<00:41,  5.47it/s]\u001b[A\u001b[A\u001b[A\u001b[A\n",
      "\n",
      "\n",
      "\n",
      " 46%|████████████████████████████████████▉                                           | 193/418 [00:41<00:38,  5.80it/s]\u001b[A\u001b[A\u001b[A\u001b[A\n",
      "\n",
      "\n",
      "\n",
      " 47%|█████████████████████████████████████▌                                          | 196/418 [00:41<00:30,  7.19it/s]\u001b[A\u001b[A\u001b[A\u001b[A\n",
      "\n",
      "\n",
      "\n",
      " 47%|█████████████████████████████████████▉                                          | 198/418 [00:41<00:27,  8.02it/s]\u001b[A\u001b[A\u001b[A\u001b[A\n",
      "\n",
      "\n",
      "\n",
      " 48%|██████████████████████████████████████▎                                         | 200/418 [00:42<00:24,  8.74it/s]\u001b[A\u001b[A\u001b[A\u001b[A\n",
      "\n",
      "\n",
      "\n",
      " 48%|██████████████████████████████████████▋                                         | 202/418 [00:42<00:28,  7.59it/s]\u001b[A\u001b[A\u001b[A\u001b[A\n",
      "\n",
      "\n",
      "\n",
      " 49%|██████████████████████████████████████▊                                         | 203/418 [00:42<00:38,  5.63it/s]\u001b[A\u001b[A\u001b[A\u001b[A\n",
      "\n",
      "\n",
      "\n",
      " 50%|███████████████████████████████████████▊                                        | 208/418 [00:42<00:29,  7.18it/s]\u001b[A\u001b[A\u001b[A\u001b[A\n",
      "\n",
      "\n",
      "\n",
      " 51%|████████████████████████████████████████▌                                       | 212/418 [00:43<00:24,  8.48it/s]\u001b[A\u001b[A\u001b[A\u001b[A\n",
      "\n",
      "\n",
      "\n",
      " 52%|█████████████████████████████████████████▉                                      | 219/418 [00:43<00:17, 11.41it/s]\u001b[A\u001b[A\u001b[A\u001b[A\n",
      "\n",
      "\n",
      "\n",
      " 53%|██████████████████████████████████████████▍                                     | 222/418 [00:43<00:15, 12.88it/s]\u001b[A\u001b[A\u001b[A\u001b[A\n",
      "\n",
      "\n",
      "\n",
      " 55%|███████████████████████████████████████████▊                                    | 229/418 [00:43<00:12, 15.02it/s]\u001b[A\u001b[A\u001b[A\u001b[A\n",
      "\n",
      "\n",
      "\n",
      " 56%|████████████████████████████████████████████▍                                   | 232/418 [00:44<00:13, 13.63it/s]\u001b[A\u001b[A\u001b[A\u001b[A\n",
      "\n",
      "\n",
      "\n",
      " 56%|████████████████████████████████████████████▉                                   | 235/418 [00:44<00:13, 13.19it/s]\u001b[A\u001b[A\u001b[A\u001b[A\n",
      "\n",
      "\n",
      "\n",
      " 57%|█████████████████████████████████████████████▎                                  | 237/418 [00:45<00:38,  4.70it/s]\u001b[A\u001b[A\u001b[A\u001b[A\n",
      "\n",
      "\n",
      "\n",
      " 58%|██████████████████████████████████████████████                                  | 241/418 [00:45<00:28,  6.24it/s]\u001b[A\u001b[A\u001b[A\u001b[A\n",
      "\n",
      "\n",
      "\n",
      " 58%|██████████████████████████████████████████████▌                                 | 243/418 [00:45<00:23,  7.32it/s]\u001b[A\u001b[A\u001b[A\u001b[A\n",
      "\n",
      "\n",
      "\n",
      " 61%|████████████████████████████████████████████████▌                               | 254/418 [00:45<00:16,  9.75it/s]\u001b[A\u001b[A\u001b[A\u001b[A\n",
      "\n",
      "\n",
      "\n",
      " 61%|█████████████████████████████████████████████████▏                              | 257/418 [00:46<00:13, 12.03it/s]\u001b[A\u001b[A\u001b[A\u001b[A\n",
      "\n",
      "\n",
      "\n",
      " 62%|█████████████████████████████████████████████████▊                              | 260/418 [00:46<00:11, 13.85it/s]\u001b[A\u001b[A\u001b[A\u001b[A\n",
      "\n",
      "\n",
      "\n",
      " 63%|██████████████████████████████████████████████████▎                             | 263/418 [00:46<00:10, 15.33it/s]\u001b[A\u001b[A\u001b[A\u001b[A\n",
      "\n",
      "\n",
      "\n",
      " 64%|██████████████████████████████████████████████████▉                             | 266/418 [00:46<00:12, 12.01it/s]\u001b[A\u001b[A\u001b[A\u001b[A\n",
      "\n",
      "\n",
      "\n",
      " 64%|███████████████████████████████████████████████████▎                            | 268/418 [00:46<00:12, 12.41it/s]\u001b[A\u001b[A\u001b[A\u001b[A\n",
      "\n",
      "\n",
      "\n",
      " 65%|███████████████████████████████████████████████████▋                            | 270/418 [00:47<00:14, 10.26it/s]\u001b[A\u001b[A\u001b[A\u001b[A\n",
      "\n",
      "\n",
      "\n",
      " 66%|████████████████████████████████████████████████████▍                           | 274/418 [00:47<00:17,  8.33it/s]\u001b[A\u001b[A\u001b[A\u001b[A\n",
      "\n",
      "\n",
      "\n",
      " 66%|████████████████████████████████████████████████████▊                           | 276/418 [00:48<00:24,  5.78it/s]\u001b[A\u001b[A\u001b[A\u001b[A\n",
      "\n",
      "\n",
      "\n",
      " 67%|█████████████████████████████████████████████████████▌                          | 280/418 [00:48<00:17,  7.68it/s]\u001b[A\u001b[A\u001b[A\u001b[A\n",
      "\n",
      "\n",
      "\n",
      " 68%|██████████████████████████████████████████████████████▋                         | 286/418 [00:48<00:13,  9.84it/s]\u001b[A\u001b[A\u001b[A\u001b[A\n",
      "\n",
      "\n",
      "\n",
      " 71%|████████████████████████████████████████████████████████▍                       | 295/418 [00:48<00:09, 13.18it/s]\u001b[A\u001b[A\u001b[A\u001b[A\n",
      "\n",
      "\n",
      "\n",
      " 72%|█████████████████████████████████████████████████████████▉                      | 303/418 [00:48<00:06, 17.12it/s]\u001b[A\u001b[A\u001b[A\u001b[A\n",
      "\n",
      "\n",
      "\n",
      " 74%|██████████████████████████████████████████████████████████▉                     | 308/418 [00:49<00:05, 19.96it/s]\u001b[A\u001b[A\u001b[A\u001b[A\n",
      "\n",
      "\n",
      "\n",
      "100%|████████████████████████████████████████████████████████████████████████████████| 418/418 [00:49<00:00,  8.48it/s]\u001b[A\u001b[A\u001b[A\u001b[A\n"
     ]
    }
   ],
   "source": [
    "spearman = []\n",
    "kendall = []\n",
    "for tournament_id in tqdm(tournaments_test_df['id']):\n",
    "    if results[tournament_id] != [] and 'position' in results[tournament_id][0].keys():\n",
    "        real_score = []\n",
    "        predicted_score = []\n",
    "        for team in results[tournament_id]:\n",
    "            mask = team.get('mask')\n",
    "            if mask is None or '?' in mask or 'X' in mask:\n",
    "                continue\n",
    "            else:\n",
    "                real_score.append(team.get('position'))\n",
    "                members = []\n",
    "                for member in team.get('teamMembers'):\n",
    "                    members.append(member.get('player').get('id'))\n",
    "                 \n",
    "                predicted_score.append(win_prob(members))\n",
    "                \n",
    "        spearman.append(stats.spearmanr(np.asarray(predicted_score), -np.asarray(real_score))[0])\n",
    "        kendall.append(stats.kendalltau(np.asarray(predicted_score), -np.asarray(real_score))[0])"
   ]
  },
  {
   "cell_type": "code",
   "execution_count": 94,
   "metadata": {},
   "outputs": [
    {
     "name": "stdout",
     "output_type": "stream",
     "text": [
      "Spearman:  0.771547034651011\n"
     ]
    }
   ],
   "source": [
    "nan = spearman[0]\n",
    "spearman = [_ for _ in spearman if _ is not nan]\n",
    "print('Spearman: ', sum(spearman)/len(spearman))"
   ]
  },
  {
   "cell_type": "code",
   "execution_count": 95,
   "metadata": {},
   "outputs": [
    {
     "name": "stdout",
     "output_type": "stream",
     "text": [
      "Kendall:  0.6108992474751299\n"
     ]
    }
   ],
   "source": [
    "nan = kendall[0]\n",
    "kendall = [_ for _ in kendall if _ is not nan]\n",
    "print('Kendall: ', sum(kendall)/len(kendall))"
   ]
  },
  {
   "cell_type": "markdown",
   "metadata": {},
   "source": [
    "**5** А что там с вопросами? Постройте “рейтинг-лист” турниров по сложности вопросов. Соответствует ли он интуиции (например, на чемпионате мира в целом должны быть сложные вопросы, а на турнирах для школьников — простые)? Если будет интересно: постройте топ сложных и простых вопросов со ссылками на конкретные записи в базе вопросов ЧГК (это чисто техническое дело, тут никакого ML нету)."
   ]
  },
  {
   "cell_type": "code",
   "execution_count": 55,
   "metadata": {},
   "outputs": [],
   "source": [
    "tournaments = pickle.load(open('chgk/tournaments.pkl', 'rb'))\n",
    "tournaments_df = pd.DataFrame.from_dict(tournaments, orient='index')\n",
    "tournaments_test_df = tournaments_df[tournaments_df['dateStart'].str[:4]=='2019']\n",
    "results = pickle.load(open('chgk/results.pkl', 'rb'))"
   ]
  },
  {
   "cell_type": "code",
   "execution_count": 56,
   "metadata": {},
   "outputs": [
    {
     "name": "stderr",
     "output_type": "stream",
     "text": [
      "100%|██████████████████████████████████████████████████████████████████████████████| 687/687 [00:00<00:00, 2218.49it/s]\n"
     ]
    }
   ],
   "source": [
    "tournaments_complexity = {}\n",
    "\n",
    "for tournament in tqdm(tournaments_test_df['id']):\n",
    "    tournament_complexity = []\n",
    "    if results[tournament] != []:\n",
    "         if 'mask' in results[tournament][0].keys():\n",
    "            mask = results[tournament][0]['mask']\n",
    "            if mask is None or '?' in mask or 'X' in mask:\n",
    "                continue      \n",
    "            for i in range(len(mask)):\n",
    "                question_id = tournament * 500 + i                \n",
    "                tournament_complexity.append(question_complexity[question_id])\n",
    "            \n",
    "            tournaments_complexity[tournament] = sum(tournament_complexity)/len(tournament_complexity)\n",
    "            \n",
    "tournaments_complexity = pd.Series(tournaments_complexity).sort_values()"
   ]
  },
  {
   "cell_type": "markdown",
   "metadata": {},
   "source": [
    "Топ-20 cоревнований за 2019 год, что на мой взгляд соответствует интуиции:"
   ]
  },
  {
   "cell_type": "code",
   "execution_count": 63,
   "metadata": {},
   "outputs": [
    {
     "name": "stdout",
     "output_type": "stream",
     "text": [
      "Чемпионат Санкт-Петербурга. Первая лига\n",
      "Угрюмый Ёрш\n",
      "Воображаемый музей\n",
      "Чемпионат Мира. Этап 3. Группа В\n",
      "Первенство правого полушария\n",
      "Чемпионат России\n",
      "Чемпионат Мира. Этап 2. Группа В\n",
      "Ускользающая сова\n",
      "Знание – Сила VI\n",
      "Тихий Донец: омут первый\n",
      "Записки охотника\n",
      "Чемпионат Мира. Этап 2 Группа С\n",
      "Львов зимой. Адвокат\n",
      "All Cats Are Beautiful\n",
      "Чемпионат Мира. Финал. Группа В\n",
      "Чемпионат Мира. Этап 3. Группа С\n",
      "Серия Premier. Седьмая печать\n",
      "Чемпионат Минска. Лига А. Тур четвёртый\n",
      "Чемпионат Мира. Этап 2. Группа А\n",
      "Мемориал Дмитрия Коноваленко\n"
     ]
    }
   ],
   "source": [
    "for tournament in tournaments_complexity.index[:20]:\n",
    "    print(tournaments[tournament][\"name\"])"
   ]
  },
  {
   "cell_type": "code",
   "execution_count": null,
   "metadata": {},
   "outputs": [],
   "source": []
  }
 ],
 "metadata": {
  "kernelspec": {
   "display_name": "Python 3",
   "language": "python",
   "name": "python3"
  },
  "language_info": {
   "codemirror_mode": {
    "name": "ipython",
    "version": 3
   },
   "file_extension": ".py",
   "mimetype": "text/x-python",
   "name": "python",
   "nbconvert_exporter": "python",
   "pygments_lexer": "ipython3",
   "version": "3.7.6"
  }
 },
 "nbformat": 4,
 "nbformat_minor": 4
}
