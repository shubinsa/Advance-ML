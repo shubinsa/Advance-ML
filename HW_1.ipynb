{
 "cells": [
  {
   "cell_type": "markdown",
   "metadata": {},
   "source": [
    "# Часть I: О теореме Байеса"
   ]
  },
  {
   "cell_type": "markdown",
   "metadata": {},
   "source": [
    "### Ответ на 1 вопрос:\n",
    "\n",
    "Прокурор оценивает вероятность редкой группы крови у подсудимого, если бы он был не виновен в 1%, данная оценка не совсем корректна, т.к. он не учитывает условие невиновности, необходимо считать условную вероятность **р.г.к.** (р.г.к. - редкая группа крови) при условии невиновности, для этого воспользуемся теоремой Байеса:\n",
    "\n",
    "**$$ P(р.г.к.|не виновности) = P(не виновности|р.г.к.) * P(р.г.к.) / P(не виновности) = [(0.01*Q-1)/0.01*Q]*0.01 / (1 - 1/Q) = (Q - 100) / [100 * (Q - 1)] $$**\n",
    "\n",
    "где Q - численность населения города.\n",
    "\n",
    "что близко к 1%  при большом Q, но все же равенство не достигается. Будем считать данную оценку вероятности условно корректной. Следующий переход в рассуждениях - \"если вероятность P(р.г.к.|не виновности) = 1%, значит, с вероятностью 99% он виновен, предлагаю осудить\" в корне не верен, т.к. 99% это не вероятность виновности при условии редкой группы крови, а верояность имения НЕ редкой группы крови при условии не виновности, P(НЕ р.г.к.|не виновности) = 100% - P(р.г.к.|не виновности) = 99%. Подсчет P(виновности|р.г.к.) приведен в ответе на второй вопрос. "
   ]
  },
  {
   "cell_type": "markdown",
   "metadata": {},
   "source": [
    "### Ответ на 2 вопрос:\n",
    "\n",
    "По мнению адвоката: “В городе живёт миллион человек. Это значит, что примерно у 10000 из них такая группа крови. Значит, всё, что говорит нам эта кровь - это то, что подсудимый совершил убийство с вероятностью 0.01%”.\n",
    "Адвокат оценил вероятность виновности подсудимого, как если бы подсудимый стал подсудимым в результате абсолютно случайной выборки одного человека из Q (Q - численность населения города). Но так обычно не происходит. Чтобы оценить P(виновности|р.г.к.) подсудимого воспользуемся теоремой Байеса:\n",
    "\n",
    "**P(виновности|р.г.к.) = P(р.г.к.|виновности) * P(виновности) / P(р.г.к.)**, где по условию задачи:\n",
    "- P(р.г.к.|виновности) = 1;\n",
    "\n",
    "- P(виновности): об этой вероятности нужно сказать пару слов, если бы подсудимый стал подсудимым в результате абсолютно случайной выборки одного человека из Q, данная вероятность была бы равна 1/Q, но так как в жизни так не происходит данная вероятность на самом деле НАМ НЕ ИЗВЕСТНА. В качестве пояснения можно привести следующий пример: всего было 10 равновероятных подозреваемых, например люди, которые присутствовали во время убийства в непосредственной близости и имели возможность совершить приступление на основании данных камер наблюдения, тогда P(виновности) = 0.1;\n",
    "\n",
    "- P(р.г.к.) - вероятность р.г.к. среди подозреваемых, другими словами если бы в нашем примере у 3 из 10 человек была бы редкая группа крови, а у 7 обычная, P(р.г.к.) = 0.3;\n",
    "\n",
    "P(виновности|р.г.к.) = 1 * P(виновности) / P(р.г.к.)\n",
    "\n"
   ]
  },
  {
   "cell_type": "markdown",
   "metadata": {},
   "source": [
    "$ e^{i \\pi} + 1 = 0 $"
   ]
  },
  {
   "cell_type": "markdown",
   "metadata": {},
   "source": [
    "### Задание"
   ]
  },
  {
   "cell_type": "code",
   "execution_count": 20,
   "metadata": {},
   "outputs": [],
   "source": [
    "import matplotlib.pyplot as plt\n",
    "%matplotlib inline\n",
    "import numpy as np"
   ]
  },
  {
   "cell_type": "code",
   "execution_count": 60,
   "metadata": {},
   "outputs": [],
   "source": [
    "false_positive = 0.05\n",
    "#false_positive = np.arange(0, 1.05, 0.05)\n",
    "p_t_h = false_positive\n",
    "false_negative = np.arange(0, 1.05, 0.05)\n",
    "#false_negative = 0.05\n",
    "p_t_d = 1 - false_negative\n",
    "#p_t_d = 0.95\n",
    "p_d = 0.01\n",
    "#p_t_h = 0.05\n",
    "p_h = 0.99"
   ]
  },
  {
   "cell_type": "code",
   "execution_count": 65,
   "metadata": {},
   "outputs": [],
   "source": [
    "p_t = p_t_d * p_d + p_t_h * p_h"
   ]
  },
  {
   "cell_type": "code",
   "execution_count": 62,
   "metadata": {},
   "outputs": [],
   "source": [
    "p_d_t = p_t_d * p_d/p_t "
   ]
  },
  {
   "cell_type": "code",
   "execution_count": 59,
   "metadata": {},
   "outputs": [
    {
     "data": {
      "text/plain": [
       "<matplotlib.collections.PathCollection at 0x207a7dcb108>"
      ]
     },
     "execution_count": 59,
     "metadata": {},
     "output_type": "execute_result"
    },
    {
     "data": {
      "image/png": "[encoded data removed]",
      "text/plain": [
       "<Figure size 432x288 with 1 Axes>"
      ]
     },
     "metadata": {
      "needs_background": "light"
     },
     "output_type": "display_data"
    }
   ],
   "source": [
    "plt.scatter(false_positive, p_d_t)"
   ]
  },
  {
   "cell_type": "code",
   "execution_count": 64,
   "metadata": {},
   "outputs": [
    {
     "data": {
      "text/plain": [
       "array([0.16806723, 0.16101695, 0.15384615, 0.14655172, 0.13913043,\n",
       "       0.13157895, 0.12389381, 0.11607143, 0.10810811, 0.1       ,\n",
       "       0.09174312, 0.08333333, 0.07476636, 0.06603774, 0.05714286,\n",
       "       0.04807692, 0.03883495, 0.02941176, 0.01980198, 0.01      ,\n",
       "       0.        ])"
      ]
     },
     "execution_count": 64,
     "metadata": {},
     "output_type": "execute_result"
    },
    {
     "data": {
      "image/png": "[encoded data removed]",
      "text/plain": [
       "<Figure size 432x288 with 1 Axes>"
      ]
     },
     "metadata": {
      "needs_background": "light"
     },
     "output_type": "display_data"
    }
   ],
   "source": [
    "plt.scatter(false_negative, p_d_t)\n",
    "p_d_t"
   ]
  },
  {
   "cell_type": "code",
   "execution_count": null,
   "metadata": {},
   "outputs": [],
   "source": []
  },
  {
   "cell_type": "markdown",
   "metadata": {},
   "source": [
    "# Часть II: О линейной регрессии"
   ]
  },
  {
   "cell_type": "code",
   "execution_count": null,
   "metadata": {},
   "outputs": [],
   "source": []
  }
 ],
 "metadata": {
  "kernelspec": {
   "display_name": "Python 3",
   "language": "python",
   "name": "python3"
  },
  "language_info": {
   "codemirror_mode": {
    "name": "ipython",
    "version": 3
   },
   "file_extension": ".py",
   "mimetype": "text/x-python",
   "name": "python",
   "nbconvert_exporter": "python",
   "pygments_lexer": "ipython3",
   "version": "3.7.6"
  }
 },
 "nbformat": 4,
 "nbformat_minor": 4
}
